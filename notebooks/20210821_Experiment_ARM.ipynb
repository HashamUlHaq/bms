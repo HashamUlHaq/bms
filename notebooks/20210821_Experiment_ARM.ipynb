{
 "cells": [
  {
   "cell_type": "markdown",
   "metadata": {},
   "source": [
    "## Environment and Spark Session setup"
   ]
  },
  {
   "cell_type": "code",
   "execution_count": 1,
   "metadata": {},
   "outputs": [
    {
     "name": "stdout",
     "output_type": "stream",
     "text": [
      "Desired SparkNLP Version: 3.1.3\n",
      "Desired SparkNLP-JSL Version: 3.1.3\n",
      "Real Spark NLP Version : 3.1.1\n",
      "Real Spark NLP_JSL Version : 3.1.3\n"
     ]
    }
   ],
   "source": [
    "import sys\n",
    "sys.path.append(\"..\")\n",
    "from ctdi_treatment.env_setup_start import *\n",
    "import time\n",
    "license_keys = set_envvars('/home/ubuntu/hasham/jsl_keys.json')\n",
    "spark = start_sparknlp(license_keys)"
   ]
  },
  {
   "cell_type": "markdown",
   "metadata": {},
   "source": [
    "## Getting the joined `design_group` + `intervention` table"
   ]
  },
  {
   "cell_type": "code",
   "execution_count": 2,
   "metadata": {},
   "outputs": [
    {
     "name": "stdout",
     "output_type": "stream",
     "text": [
      "Index(['design_group_id', 'nct_id', 'group_type', 'title', 'arm_desc',\n",
      "       'intervention_id', 'intervention_type', 'name', 'intervention_desc',\n",
      "       'arm_title_desc', 'intervention_name_desc',\n",
      "       'intervention_type_name_desc'],\n",
      "      dtype='object')\n"
     ]
    },
    {
     "data": {
      "text/html": [
       "<div>\n",
       "<style scoped>\n",
       "    .dataframe tbody tr th:only-of-type {\n",
       "        vertical-align: middle;\n",
       "    }\n",
       "\n",
       "    .dataframe tbody tr th {\n",
       "        vertical-align: top;\n",
       "    }\n",
       "\n",
       "    .dataframe thead th {\n",
       "        text-align: right;\n",
       "    }\n",
       "</style>\n",
       "<table border=\"1\" class=\"dataframe\">\n",
       "  <thead>\n",
       "    <tr style=\"text-align: right;\">\n",
       "      <th></th>\n",
       "      <th>design_group_id</th>\n",
       "      <th>nct_id</th>\n",
       "      <th>group_type</th>\n",
       "      <th>title</th>\n",
       "      <th>arm_desc</th>\n",
       "      <th>intervention_id</th>\n",
       "      <th>intervention_type</th>\n",
       "      <th>name</th>\n",
       "      <th>intervention_desc</th>\n",
       "      <th>arm_title_desc</th>\n",
       "      <th>intervention_name_desc</th>\n",
       "      <th>intervention_type_name_desc</th>\n",
       "    </tr>\n",
       "  </thead>\n",
       "  <tbody>\n",
       "    <tr>\n",
       "      <th>0</th>\n",
       "      <td>13299803</td>\n",
       "      <td>NCT00000435</td>\n",
       "      <td>Placebo Comparator</td>\n",
       "      <td>A</td>\n",
       "      <td>Subjects randomized to arm A received 25mg/day...</td>\n",
       "      <td>12910066</td>\n",
       "      <td>Drug</td>\n",
       "      <td>None-placebo</td>\n",
       "      <td>placebo was taken in pill form at 25mg/day for...</td>\n",
       "      <td>A\\n\\nSubjects randomized to arm A received 25m...</td>\n",
       "      <td>None-placebo: placebo was taken in pill form a...</td>\n",
       "      <td>Drug\\nNone-placebo: placebo was taken in pill ...</td>\n",
       "    </tr>\n",
       "    <tr>\n",
       "      <th>1</th>\n",
       "      <td>13299804</td>\n",
       "      <td>NCT00000435</td>\n",
       "      <td>Active Comparator</td>\n",
       "      <td>B</td>\n",
       "      <td>Subjects randomized to Arm B received 25mg/day...</td>\n",
       "      <td>12910065</td>\n",
       "      <td>Drug</td>\n",
       "      <td>dnaJ peptide</td>\n",
       "      <td>dnaJP1 was taken in pill form at 25mg/day for ...</td>\n",
       "      <td>B\\n\\nSubjects randomized to Arm B received 25m...</td>\n",
       "      <td>dnaJ peptide: dnaJP1 was taken in pill form at...</td>\n",
       "      <td>Drug\\ndnaJ peptide: dnaJP1 was taken in pill f...</td>\n",
       "    </tr>\n",
       "    <tr>\n",
       "      <th>2</th>\n",
       "      <td>13690845</td>\n",
       "      <td>NCT00001337</td>\n",
       "      <td>Experimental</td>\n",
       "      <td>Arm A</td>\n",
       "      <td>EPOCH + Rituximab every 3 weeks for 6 cycles.</td>\n",
       "      <td>13274570</td>\n",
       "      <td>Drug</td>\n",
       "      <td>EPOCH</td>\n",
       "      <td>Combination chemotherapy given with Rituximab ...</td>\n",
       "      <td>Arm A\\n\\nEPOCH + Rituximab every 3 weeks for 6...</td>\n",
       "      <td>EPOCH: Combination chemotherapy given with Rit...</td>\n",
       "      <td>Drug\\nEPOCH: Combination chemotherapy given wi...</td>\n",
       "    </tr>\n",
       "    <tr>\n",
       "      <th>3</th>\n",
       "      <td>13690845</td>\n",
       "      <td>NCT00001337</td>\n",
       "      <td>Experimental</td>\n",
       "      <td>Arm A</td>\n",
       "      <td>EPOCH + Rituximab every 3 weeks for 6 cycles.</td>\n",
       "      <td>13274571</td>\n",
       "      <td>Biological</td>\n",
       "      <td>Rituximab</td>\n",
       "      <td>Rituximab given on Day 1 of combination chemot...</td>\n",
       "      <td>Arm A\\n\\nEPOCH + Rituximab every 3 weeks for 6...</td>\n",
       "      <td>Rituximab: Rituximab given on Day 1 of combina...</td>\n",
       "      <td>Biological\\nRituximab: Rituximab given on Day ...</td>\n",
       "    </tr>\n",
       "    <tr>\n",
       "      <th>4</th>\n",
       "      <td>13732309</td>\n",
       "      <td>NCT00001563</td>\n",
       "      <td>Experimental</td>\n",
       "      <td>1</td>\n",
       "      <td>EPOCH-R every 3 weeks for up to 6 cycle</td>\n",
       "      <td>13311178</td>\n",
       "      <td>Biological</td>\n",
       "      <td>Filgrastim</td>\n",
       "      <td>Filgrastim after EPOCH-R from Day 6 for 10 day...</td>\n",
       "      <td>1\\n\\nEPOCH-R every 3 weeks for up to 6 cycle</td>\n",
       "      <td>Filgrastim: Filgrastim after EPOCH-R from Day ...</td>\n",
       "      <td>Biological\\nFilgrastim: Filgrastim after EPOCH...</td>\n",
       "    </tr>\n",
       "  </tbody>\n",
       "</table>\n",
       "</div>"
      ],
      "text/plain": [
       "   design_group_id       nct_id          group_type  title  \\\n",
       "0         13299803  NCT00000435  Placebo Comparator      A   \n",
       "1         13299804  NCT00000435   Active Comparator      B   \n",
       "2         13690845  NCT00001337        Experimental  Arm A   \n",
       "3         13690845  NCT00001337        Experimental  Arm A   \n",
       "4         13732309  NCT00001563        Experimental      1   \n",
       "\n",
       "                                            arm_desc  intervention_id  \\\n",
       "0  Subjects randomized to arm A received 25mg/day...         12910066   \n",
       "1  Subjects randomized to Arm B received 25mg/day...         12910065   \n",
       "2      EPOCH + Rituximab every 3 weeks for 6 cycles.         13274570   \n",
       "3      EPOCH + Rituximab every 3 weeks for 6 cycles.         13274571   \n",
       "4            EPOCH-R every 3 weeks for up to 6 cycle         13311178   \n",
       "\n",
       "  intervention_type          name  \\\n",
       "0              Drug  None-placebo   \n",
       "1              Drug  dnaJ peptide   \n",
       "2              Drug         EPOCH   \n",
       "3        Biological     Rituximab   \n",
       "4        Biological    Filgrastim   \n",
       "\n",
       "                                   intervention_desc  \\\n",
       "0  placebo was taken in pill form at 25mg/day for...   \n",
       "1  dnaJP1 was taken in pill form at 25mg/day for ...   \n",
       "2  Combination chemotherapy given with Rituximab ...   \n",
       "3  Rituximab given on Day 1 of combination chemot...   \n",
       "4  Filgrastim after EPOCH-R from Day 6 for 10 day...   \n",
       "\n",
       "                                      arm_title_desc  \\\n",
       "0  A\\n\\nSubjects randomized to arm A received 25m...   \n",
       "1  B\\n\\nSubjects randomized to Arm B received 25m...   \n",
       "2  Arm A\\n\\nEPOCH + Rituximab every 3 weeks for 6...   \n",
       "3  Arm A\\n\\nEPOCH + Rituximab every 3 weeks for 6...   \n",
       "4       1\\n\\nEPOCH-R every 3 weeks for up to 6 cycle   \n",
       "\n",
       "                              intervention_name_desc  \\\n",
       "0  None-placebo: placebo was taken in pill form a...   \n",
       "1  dnaJ peptide: dnaJP1 was taken in pill form at...   \n",
       "2  EPOCH: Combination chemotherapy given with Rit...   \n",
       "3  Rituximab: Rituximab given on Day 1 of combina...   \n",
       "4  Filgrastim: Filgrastim after EPOCH-R from Day ...   \n",
       "\n",
       "                         intervention_type_name_desc  \n",
       "0  Drug\\nNone-placebo: placebo was taken in pill ...  \n",
       "1  Drug\\ndnaJ peptide: dnaJP1 was taken in pill f...  \n",
       "2  Drug\\nEPOCH: Combination chemotherapy given wi...  \n",
       "3  Biological\\nRituximab: Rituximab given on Day ...  \n",
       "4  Biological\\nFilgrastim: Filgrastim after EPOCH...  "
      ]
     },
     "execution_count": 2,
     "metadata": {},
     "output_type": "execute_result"
    }
   ],
   "source": [
    "import pandas as pd\n",
    "alldf = pd.read_csv(\"../data/raw_aac.csv\")\n",
    "print (alldf.columns)\n",
    "alldf.head()"
   ]
  },
  {
   "cell_type": "markdown",
   "metadata": {},
   "source": [
    "### Also calculating the fields that represent the actual input to the pipeline\n",
    "#### Concatenation of ARM Title and Desc, Intervention Name and Desc,  Intervention Type, Name and Desc"
   ]
  },
  {
   "cell_type": "code",
   "execution_count": 3,
   "metadata": {},
   "outputs": [
    {
     "data": {
      "text/plain": [
       "(45, 12)"
      ]
     },
     "execution_count": 3,
     "metadata": {},
     "output_type": "execute_result"
    }
   ],
   "source": [
    "name_sep = \": \"\n",
    "sent_sep = \".\"\n",
    "tit_sep = \"\\n\\n\"\n",
    "\n",
    "alldf[\"arm_title_desc\"] = alldf[\"title\"]+tit_sep+alldf[\"arm_desc\"]\n",
    "alldf[\"intervention_name_desc\"] = alldf[\"name\"]+name_sep+alldf[\"intervention_desc\"]+sent_sep\n",
    "alldf[\"intervention_type_name_desc\"] = alldf[\"intervention_type\"]+tit_sep+alldf[\"intervention_name_desc\"]\n",
    "alldf.shape"
   ]
  },
  {
   "cell_type": "code",
   "execution_count": 4,
   "metadata": {},
   "outputs": [],
   "source": [
    "annotation_df = alldf.groupby([\"nct_id\",\"design_group_id\",\"title\",\"arm_desc\"]).agg(\n",
    "    intervention_type_name_desc=(\"intervention_type_name_desc\", tit_sep.join)\n",
    ").reset_index()\n",
    "\n",
    "# Exps Quadruplets: 1. DataFrame, 2. PipelineField, 3. AACT fallback field for drugs\n",
    "exps = [\n",
    "    (alldf[[\"nct_id\",\"design_group_id\",\"title\",\"arm_desc\",\"arm_title_desc\"]].drop_duplicates(), \n",
    "     \"arm_title_desc\", \"title\"),\n",
    "    \n",
    "    (alldf[[\"nct_id\",\"design_group_id\",\"title\",\"arm_desc\",\"arm_title_desc\",\"name\",\"intervention_type\",\"intervention_name_desc\"]].drop_duplicates(), \n",
    "     \"intervention_name_desc\", \"name\"),\n",
    "    \n",
    "    (annotation_df, \"intervention_type_name_desc\", \"name\"),\n",
    "]"
   ]
  },
  {
   "cell_type": "code",
   "execution_count": 5,
   "metadata": {},
   "outputs": [
    {
     "data": {
      "text/html": [
       "<div>\n",
       "<style scoped>\n",
       "    .dataframe tbody tr th:only-of-type {\n",
       "        vertical-align: middle;\n",
       "    }\n",
       "\n",
       "    .dataframe tbody tr th {\n",
       "        vertical-align: top;\n",
       "    }\n",
       "\n",
       "    .dataframe thead th {\n",
       "        text-align: right;\n",
       "    }\n",
       "</style>\n",
       "<table border=\"1\" class=\"dataframe\">\n",
       "  <thead>\n",
       "    <tr style=\"text-align: right;\">\n",
       "      <th></th>\n",
       "      <th>nct_id</th>\n",
       "      <th>design_group_id</th>\n",
       "      <th>title</th>\n",
       "      <th>arm_desc</th>\n",
       "      <th>intervention_type_name_desc</th>\n",
       "    </tr>\n",
       "  </thead>\n",
       "  <tbody>\n",
       "    <tr>\n",
       "      <th>0</th>\n",
       "      <td>NCT00000435</td>\n",
       "      <td>13299803</td>\n",
       "      <td>A</td>\n",
       "      <td>Subjects randomized to arm A received 25mg/day...</td>\n",
       "      <td>Drug\\n\\nNone-placebo: placebo was taken in pil...</td>\n",
       "    </tr>\n",
       "    <tr>\n",
       "      <th>1</th>\n",
       "      <td>NCT00000435</td>\n",
       "      <td>13299804</td>\n",
       "      <td>B</td>\n",
       "      <td>Subjects randomized to Arm B received 25mg/day...</td>\n",
       "      <td>Drug\\n\\ndnaJ peptide: dnaJP1 was taken in pill...</td>\n",
       "    </tr>\n",
       "    <tr>\n",
       "      <th>2</th>\n",
       "      <td>NCT00001337</td>\n",
       "      <td>13690845</td>\n",
       "      <td>Arm A</td>\n",
       "      <td>EPOCH + Rituximab every 3 weeks for 6 cycles.</td>\n",
       "      <td>Drug\\n\\nEPOCH: Combination chemotherapy given ...</td>\n",
       "    </tr>\n",
       "    <tr>\n",
       "      <th>3</th>\n",
       "      <td>NCT00001563</td>\n",
       "      <td>13732309</td>\n",
       "      <td>1</td>\n",
       "      <td>EPOCH-R every 3 weeks for up to 6 cycle</td>\n",
       "      <td>Biological\\n\\nFilgrastim: Filgrastim after EPO...</td>\n",
       "    </tr>\n",
       "    <tr>\n",
       "      <th>4</th>\n",
       "      <td>NCT00001575</td>\n",
       "      <td>13299883</td>\n",
       "      <td>Anti-Tac yttrium 90-labeled humanized anti-Tac...</td>\n",
       "      <td>10 mCi (if a bone marrow transplant was part o...</td>\n",
       "      <td>Biological\\n\\nY-90 Humanized Anti-Tac: 10 mCi ...</td>\n",
       "    </tr>\n",
       "    <tr>\n",
       "      <th>5</th>\n",
       "      <td>NCT00001586</td>\n",
       "      <td>13299880</td>\n",
       "      <td>Low-Intermediate Risk B-Cell Pts</td>\n",
       "      <td>Previously untreated low or intermediate risk ...</td>\n",
       "      <td>Other\\n\\nLeukemic or stroma cells: Patients ar...</td>\n",
       "    </tr>\n",
       "    <tr>\n",
       "      <th>6</th>\n",
       "      <td>NCT00001586</td>\n",
       "      <td>13299881</td>\n",
       "      <td>Intermediate-high Risk B-Cell Pts</td>\n",
       "      <td>Previously untreated intermediate or high risk...</td>\n",
       "      <td>Biological\\n\\nRituximab: Rituxan.\\n\\nDrug\\n\\nF...</td>\n",
       "    </tr>\n",
       "    <tr>\n",
       "      <th>7</th>\n",
       "      <td>NCT00001984</td>\n",
       "      <td>13299801</td>\n",
       "      <td>Alemtuzumab and DSG</td>\n",
       "      <td>The recipients of live donor kidneys were trea...</td>\n",
       "      <td>Drug\\n\\nAlemtuzumab and DSG: Alemtuzumab was a...</td>\n",
       "    </tr>\n",
       "    <tr>\n",
       "      <th>8</th>\n",
       "      <td>NCT00002548</td>\n",
       "      <td>13296605</td>\n",
       "      <td>HDCTX and PBSC</td>\n",
       "      <td>High dose chemotherapy with peripheral blood s...</td>\n",
       "      <td>Drug\\n\\ndoxorubicin hydrochloride: 10 mg/m2/da...</td>\n",
       "    </tr>\n",
       "    <tr>\n",
       "      <th>9</th>\n",
       "      <td>NCT00002548</td>\n",
       "      <td>13296606</td>\n",
       "      <td>HDCTX with PBSC and Autologous BMT</td>\n",
       "      <td>High dose chemotherapy with peripheral blood s...</td>\n",
       "      <td>Drug\\n\\ncarmustine: 20 mg/m2 I.V. day 1 q 35 d...</td>\n",
       "    </tr>\n",
       "    <tr>\n",
       "      <th>10</th>\n",
       "      <td>NCT00002548</td>\n",
       "      <td>13296607</td>\n",
       "      <td>HDCTX with PBSC and interferon</td>\n",
       "      <td>High dose chemotherapy with peripheral blood s...</td>\n",
       "      <td>Biological\\n\\nrecombinant interferon alfa: 3 m...</td>\n",
       "    </tr>\n",
       "    <tr>\n",
       "      <th>11</th>\n",
       "      <td>NCT00002548</td>\n",
       "      <td>13296608</td>\n",
       "      <td>HDCTX with PBSC and transplant plus IFN</td>\n",
       "      <td>High dose chemotherapy with peripheral blood s...</td>\n",
       "      <td>Biological\\n\\nrecombinant interferon alfa: 3 m...</td>\n",
       "    </tr>\n",
       "    <tr>\n",
       "      <th>12</th>\n",
       "      <td>NCT00002556</td>\n",
       "      <td>13298553</td>\n",
       "      <td>ARM A (VBMCP)</td>\n",
       "      <td>INDUCTION PHASE: Patients receive VBMCP compri...</td>\n",
       "      <td>Drug\\n\\nvincristine sulfate: Given IV.</td>\n",
       "    </tr>\n",
       "  </tbody>\n",
       "</table>\n",
       "</div>"
      ],
      "text/plain": [
       "         nct_id  design_group_id  \\\n",
       "0   NCT00000435         13299803   \n",
       "1   NCT00000435         13299804   \n",
       "2   NCT00001337         13690845   \n",
       "3   NCT00001563         13732309   \n",
       "4   NCT00001575         13299883   \n",
       "5   NCT00001586         13299880   \n",
       "6   NCT00001586         13299881   \n",
       "7   NCT00001984         13299801   \n",
       "8   NCT00002548         13296605   \n",
       "9   NCT00002548         13296606   \n",
       "10  NCT00002548         13296607   \n",
       "11  NCT00002548         13296608   \n",
       "12  NCT00002556         13298553   \n",
       "\n",
       "                                                title  \\\n",
       "0                                                   A   \n",
       "1                                                   B   \n",
       "2                                               Arm A   \n",
       "3                                                   1   \n",
       "4   Anti-Tac yttrium 90-labeled humanized anti-Tac...   \n",
       "5                    Low-Intermediate Risk B-Cell Pts   \n",
       "6                   Intermediate-high Risk B-Cell Pts   \n",
       "7                                 Alemtuzumab and DSG   \n",
       "8                                      HDCTX and PBSC   \n",
       "9                  HDCTX with PBSC and Autologous BMT   \n",
       "10                     HDCTX with PBSC and interferon   \n",
       "11            HDCTX with PBSC and transplant plus IFN   \n",
       "12                                      ARM A (VBMCP)   \n",
       "\n",
       "                                             arm_desc  \\\n",
       "0   Subjects randomized to arm A received 25mg/day...   \n",
       "1   Subjects randomized to Arm B received 25mg/day...   \n",
       "2       EPOCH + Rituximab every 3 weeks for 6 cycles.   \n",
       "3             EPOCH-R every 3 weeks for up to 6 cycle   \n",
       "4   10 mCi (if a bone marrow transplant was part o...   \n",
       "5   Previously untreated low or intermediate risk ...   \n",
       "6   Previously untreated intermediate or high risk...   \n",
       "7   The recipients of live donor kidneys were trea...   \n",
       "8   High dose chemotherapy with peripheral blood s...   \n",
       "9   High dose chemotherapy with peripheral blood s...   \n",
       "10  High dose chemotherapy with peripheral blood s...   \n",
       "11  High dose chemotherapy with peripheral blood s...   \n",
       "12  INDUCTION PHASE: Patients receive VBMCP compri...   \n",
       "\n",
       "                          intervention_type_name_desc  \n",
       "0   Drug\\n\\nNone-placebo: placebo was taken in pil...  \n",
       "1   Drug\\n\\ndnaJ peptide: dnaJP1 was taken in pill...  \n",
       "2   Drug\\n\\nEPOCH: Combination chemotherapy given ...  \n",
       "3   Biological\\n\\nFilgrastim: Filgrastim after EPO...  \n",
       "4   Biological\\n\\nY-90 Humanized Anti-Tac: 10 mCi ...  \n",
       "5   Other\\n\\nLeukemic or stroma cells: Patients ar...  \n",
       "6   Biological\\n\\nRituximab: Rituxan.\\n\\nDrug\\n\\nF...  \n",
       "7   Drug\\n\\nAlemtuzumab and DSG: Alemtuzumab was a...  \n",
       "8   Drug\\n\\ndoxorubicin hydrochloride: 10 mg/m2/da...  \n",
       "9   Drug\\n\\ncarmustine: 20 mg/m2 I.V. day 1 q 35 d...  \n",
       "10  Biological\\n\\nrecombinant interferon alfa: 3 m...  \n",
       "11  Biological\\n\\nrecombinant interferon alfa: 3 m...  \n",
       "12             Drug\\n\\nvincristine sulfate: Given IV.  "
      ]
     },
     "execution_count": 5,
     "metadata": {},
     "output_type": "execute_result"
    }
   ],
   "source": [
    "annotation_df"
   ]
  },
  {
   "cell_type": "markdown",
   "metadata": {},
   "source": [
    "## Pipeline Execution"
   ]
  },
  {
   "cell_type": "markdown",
   "metadata": {},
   "source": [
    "### Building or Loading the Spark Pipeline"
   ]
  },
  {
   "cell_type": "code",
   "execution_count": 6,
   "metadata": {},
   "outputs": [
    {
     "name": "stdout",
     "output_type": "stream",
     "text": [
      "sbiobert_base_cased_mli download started this may take some time.\n",
      "Approximate size to download 384.3 MB\n",
      "[OK!]\n",
      "sbiobertresolve_rxnorm_dispo download started this may take some time.\n",
      "Approximate size to download 804.3 MB\n",
      "[OK!]\n"
     ]
    }
   ],
   "source": [
    "from ctdi_treatment.resolver_pipeline import ResolverPipeline\n",
    "resolver_pipeline = ResolverPipeline(spark)"
   ]
  },
  {
   "cell_type": "code",
   "execution_count": 14,
   "metadata": {},
   "outputs": [
    {
     "data": {
      "text/plain": [
       "[Annotation(entity, 0, 12, 1125315, {'all_k_results': '1125315:::19052416:::40220874:::19122864:::19052418:::36216998:::40005655:::36244345:::40220875:::40005806:::36216996:::19072617:::40005733:::19018485:::40005663:::36216997:::1361205:::36244163:::19056032:::40005682:::36216999:::36217000:::19087812:::40229063:::40005662', 'all_k_distances': '0.0000:::4.8733:::5.5359:::5.9080:::5.9561:::6.8234:::7.1581:::7.1857:::7.3107:::7.3581:::7.4884:::7.5802:::7.6557:::7.6765:::7.7845:::7.9702:::8.0238:::8.0340:::8.0736:::8.3391:::8.4086:::8.4157:::8.6243:::8.6471:::8.7823', 'confidence': '0.9749', 'all_k_cosine_distances': '0.0000:::0.0393:::0.0503:::0.0578:::0.0595:::0.0776:::0.0872:::0.0870:::0.0900:::0.0907:::0.0929:::0.0959:::0.0979:::0.0975:::0.1007:::0.1063:::0.1080:::0.1103:::0.1070:::0.1165:::0.1175:::0.1194:::0.1220:::0.1264:::0.1306', 'all_k_resolutions': 'acetaminophen:::acetaminophen jr:::acetaminophen injection:::acetaminophen child:::acetaminophen pm:::acetaminophen oral product:::acetaminophen elixir:::acetaminophen granule product:::acetaminophen injection [ofirmev]:::acetaminophen syrup:::acetaminophen injectable product:::maximum acetaminophen:::acetaminophen oral suspension:::amphetaminil:::acetaminophen injectable solution:::acetaminophen oral liquid product:::acetaminophen oral powder:::acetaminophen wafer product:::acetiamine:::acetaminophen oral solution:::acetaminophen pill:::acetaminophen rectal product:::acephen:::acetaminophen injectable solution [ofirmev]:::acetaminophen oral granules', 'target_text': 'acetaminophen', 'all_k_aux_labels': '', 'token': 'acetaminophen', 'resolved_text': 'acetaminophen', 'all_k_confidences': '0.9749:::0.0075:::0.0038:::0.0026:::0.0025:::0.0011:::0.0008:::0.0007:::0.0007:::0.0006:::0.0005:::0.0005:::0.0005:::0.0005:::0.0004:::0.0003:::0.0003:::0.0003:::0.0003:::0.0002:::0.0002:::0.0002:::0.0002:::0.0002:::0.0001', 'distance': '0.0000', 'sentence': '0'})]"
      ]
     },
     "execution_count": 14,
     "metadata": {},
     "output_type": "execute_result"
    }
   ],
   "source": [
    "resolver_pipeline.resolve(['acetaminophen'])[0]['resolution_rxnorm']"
   ]
  },
  {
   "cell_type": "code",
   "execution_count": 10,
   "metadata": {},
   "outputs": [],
   "source": [
    "dispo_df = spark.read.parquet(\"../../rxnorm_dispo.parquet\")"
   ]
  },
  {
   "cell_type": "code",
   "execution_count": 11,
   "metadata": {},
   "outputs": [
    {
     "name": "stdout",
     "output_type": "stream",
     "text": [
      "+--------------------+----+------------+--------------------+--------------------+--------------------+-----------+\n",
      "|               lterm|  id|concept_code|         rxnorm_term| sentence_embeddings|            sentence|destination|\n",
      "+--------------------+----+------------+--------------------+--------------------+--------------------+-----------+\n",
      "|acetaminophen / d...|8192|    40151278|acetaminophen / d...|[[sentence_embedd...|[[document, 0, 88...|       null|\n",
      "|cytarabine liposo...|8193|    40175466|cytarabine liposo...|[[sentence_embedd...|[[document, 0, 50...|       null|\n",
      "|neisseria meningi...|8194|    40173200|neisseria meningi...|[[sentence_embedd...|[[document, 0, 25...|       null|\n",
      "+--------------------+----+------------+--------------------+--------------------+--------------------+-----------+\n",
      "only showing top 3 rows\n",
      "\n"
     ]
    }
   ],
   "source": [
    "dispo_df.show(3)"
   ]
  },
  {
   "cell_type": "code",
   "execution_count": 15,
   "metadata": {},
   "outputs": [
    {
     "name": "stdout",
     "output_type": "stream",
     "text": [
      "embeddings_clinical download started this may take some time.\n",
      "Approximate size to download 1.6 GB\n",
      "[OK!]\n",
      "pos_clinical download started this may take some time.\n",
      "Approximate size to download 1.5 MB\n",
      "[OK!]\n",
      "dependency_conllu download started this may take some time.\n",
      "Approximate size to download 16.7 MB\n",
      "[OK!]\n",
      "ner_posology download started this may take some time.\n",
      "Approximate size to download 13.8 MB\n",
      "[OK!]\n",
      "ner_clinical download started this may take some time.\n",
      "Approximate size to download 13.9 MB\n",
      "[OK!]\n",
      "ner_clinical_large download started this may take some time.\n",
      "Approximate size to download 13.9 MB\n",
      "[OK!]\n",
      "ner_jsl download started this may take some time.\n",
      "Approximate size to download 14.5 MB\n",
      "[OK!]\n",
      "assertion_dl download started this may take some time.\n",
      "Approximate size to download 1.3 MB\n",
      "[OK!]\n",
      "sbiobert_base_cased_mli download started this may take some time.\n",
      "Approximate size to download 384.3 MB\n",
      "[OK!]\n",
      "sbiobertresolve_rxnorm_dispo download started this may take some time.\n",
      "Approximate size to download 804.3 MB\n",
      "[OK!]\n",
      "149.1631851196289\n"
     ]
    }
   ],
   "source": [
    "from ctdi_treatment.treatment_pipeline import build_treatment_pipeline, build_df, LightPipeline, PipelineModel\n",
    "pl_name = \"20210722_ner_pl_from_arms\"\n",
    "build_or_load = \"build\"#\"load\"\n",
    "s = time.time()\n",
    "if build_or_load==\"build\":\n",
    "    pl = build_treatment_pipeline()\n",
    "    plm = pl.fit(spark.createDataFrame([(\"\",)]).toDF(\"text\"))\n",
    "else:\n",
    "    plm = PipelineModel.load(f\"models/{pl_name}\")\n",
    "print(time.time()-s)"
   ]
  },
  {
   "cell_type": "markdown",
   "metadata": {},
   "source": [
    "### Saving the Pipeline"
   ]
  },
  {
   "cell_type": "code",
   "execution_count": 7,
   "metadata": {},
   "outputs": [],
   "source": [
    "save_pipeline = False\n",
    "if save_pipeline:\n",
    "    s = time.time()\n",
    "    plm.write().overwrite().save(f\"models/{pl_name}\")\n",
    "    print(time.time()-s)"
   ]
  },
  {
   "cell_type": "markdown",
   "metadata": {},
   "source": [
    "### Creating SparkNLP LightPipeline to avoid Spark overhead"
   ]
  },
  {
   "cell_type": "code",
   "execution_count": 18,
   "metadata": {},
   "outputs": [],
   "source": [
    "lpl = LightPipeline(plm)"
   ]
  },
  {
   "cell_type": "code",
   "execution_count": 19,
   "metadata": {},
   "outputs": [
    {
     "name": "stdout",
     "output_type": "stream",
     "text": [
      "410.96175360679626\n"
     ]
    }
   ],
   "source": [
    "use_light_pipeline = True\n",
    "s = time.time()\n",
    "dfs = []\n",
    "for e in exps:\n",
    "    if use_light_pipeline:\n",
    "        dfs.append((e[-1],build_df(*e[:-1], lpl)))\n",
    "    else:\n",
    "        plm.stages[0].setInputCol(e[1])\n",
    "        # These line here makes no sense in reality but just for reference if you were to use a cluster\n",
    "        dfs.append((e[-1],plm.transform(spark.createDataFrame(e[0])).toPandas()))\n",
    "print(time.time()-s)"
   ]
  },
  {
   "cell_type": "code",
   "execution_count": 20,
   "metadata": {},
   "outputs": [
    {
     "name": "stdout",
     "output_type": "stream",
     "text": [
      "(13, 32)\n",
      "(45, 35)\n",
      "(13, 32)\n"
     ]
    }
   ],
   "source": [
    "for _,o in dfs:\n",
    "    print(o.shape)"
   ]
  },
  {
   "cell_type": "markdown",
   "metadata": {},
   "source": [
    "## Running postprocessing for all experiments"
   ]
  },
  {
   "cell_type": "code",
   "execution_count": 21,
   "metadata": {},
   "outputs": [
    {
     "ename": "ModuleNotFoundError",
     "evalue": "No module named 'pylcs'",
     "output_type": "error",
     "traceback": [
      "\u001b[0;31m---------------------------------------------------------------------------\u001b[0m",
      "\u001b[0;31mModuleNotFoundError\u001b[0m                       Traceback (most recent call last)",
      "\u001b[0;32m<ipython-input-21-c85d6b6d1b52>\u001b[0m in \u001b[0;36m<module>\u001b[0;34m\u001b[0m\n\u001b[1;32m      1\u001b[0m \u001b[0;32mimport\u001b[0m \u001b[0mpandas\u001b[0m \u001b[0;32mas\u001b[0m \u001b[0mpd\u001b[0m\u001b[0;34m\u001b[0m\u001b[0;34m\u001b[0m\u001b[0m\n\u001b[1;32m      2\u001b[0m \u001b[0;32mfrom\u001b[0m \u001b[0mscipy\u001b[0m\u001b[0;34m.\u001b[0m\u001b[0mstats\u001b[0m \u001b[0;32mimport\u001b[0m \u001b[0mmode\u001b[0m\u001b[0;34m\u001b[0m\u001b[0;34m\u001b[0m\u001b[0m\n\u001b[0;32m----> 3\u001b[0;31m \u001b[0;32mfrom\u001b[0m \u001b[0mctdi_treatment\u001b[0m\u001b[0;34m.\u001b[0m\u001b[0mpostprocessing\u001b[0m \u001b[0;32mimport\u001b[0m \u001b[0mbuild_dict_acc\u001b[0m\u001b[0;34m,\u001b[0m \u001b[0mprepare_output_acc\u001b[0m\u001b[0;34m,\u001b[0m \u001b[0maggregate_entity_dict\u001b[0m\u001b[0;34m,\u001b[0m \u001b[0mdict_diff_acc\u001b[0m\u001b[0;34m,\u001b[0m \u001b[0mdict_join_append_acc\u001b[0m\u001b[0;34m\u001b[0m\u001b[0;34m\u001b[0m\u001b[0m\n\u001b[0m\u001b[1;32m      4\u001b[0m \u001b[0;32mfor\u001b[0m \u001b[0mi\u001b[0m\u001b[0;34m,\u001b[0m \u001b[0;34m(\u001b[0m\u001b[0mff\u001b[0m\u001b[0;34m,\u001b[0m\u001b[0mo\u001b[0m\u001b[0;34m)\u001b[0m \u001b[0;32min\u001b[0m \u001b[0menumerate\u001b[0m\u001b[0;34m(\u001b[0m\u001b[0mdfs\u001b[0m\u001b[0;34m)\u001b[0m\u001b[0;34m:\u001b[0m\u001b[0;34m\u001b[0m\u001b[0;34m\u001b[0m\u001b[0m\n\u001b[1;32m      5\u001b[0m     \u001b[0mdfs\u001b[0m\u001b[0;34m[\u001b[0m\u001b[0mi\u001b[0m\u001b[0;34m]\u001b[0m\u001b[0;34m[\u001b[0m\u001b[0;36m1\u001b[0m\u001b[0;34m]\u001b[0m\u001b[0;34m[\u001b[0m\u001b[0;34m\"entity_dict\"\u001b[0m\u001b[0;34m]\u001b[0m \u001b[0;34m=\u001b[0m \u001b[0mo\u001b[0m\u001b[0;34m[\u001b[0m\u001b[0;34m\"full_chunk\"\u001b[0m\u001b[0;34m]\u001b[0m\u001b[0;34m.\u001b[0m\u001b[0mapply\u001b[0m\u001b[0;34m(\u001b[0m\u001b[0mbuild_dict_acc\u001b[0m\u001b[0;34m(\u001b[0m\u001b[0mby_sentence\u001b[0m\u001b[0;34m=\u001b[0m\u001b[0;32mFalse\u001b[0m\u001b[0;34m)\u001b[0m\u001b[0;34m)\u001b[0m\u001b[0;34m\u001b[0m\u001b[0;34m\u001b[0m\u001b[0m\n",
      "\u001b[0;32m~/hasham/pocs/bms/bms-treatment/ctdi_treatment/postprocessing.py\u001b[0m in \u001b[0;36m<module>\u001b[0;34m\u001b[0m\n\u001b[1;32m      1\u001b[0m \u001b[0;32mimport\u001b[0m \u001b[0mre\u001b[0m \u001b[0;32mas\u001b[0m \u001b[0mrex\u001b[0m\u001b[0;34m\u001b[0m\u001b[0;34m\u001b[0m\u001b[0m\n\u001b[1;32m      2\u001b[0m \u001b[0;32mimport\u001b[0m \u001b[0mitertools\u001b[0m\u001b[0;34m\u001b[0m\u001b[0;34m\u001b[0m\u001b[0m\n\u001b[0;32m----> 3\u001b[0;31m \u001b[0;32mimport\u001b[0m \u001b[0mpylcs\u001b[0m\u001b[0;34m\u001b[0m\u001b[0;34m\u001b[0m\u001b[0m\n\u001b[0m\u001b[1;32m      4\u001b[0m \u001b[0;34m\u001b[0m\u001b[0m\n\u001b[1;32m      5\u001b[0m \u001b[0;32mdef\u001b[0m \u001b[0mbuild_dict_acc\u001b[0m\u001b[0;34m(\u001b[0m\u001b[0mhead_label\u001b[0m\u001b[0;34m=\u001b[0m\u001b[0;34m\"Drug\"\u001b[0m\u001b[0;34m,\u001b[0m \u001b[0mby_sentence\u001b[0m\u001b[0;34m=\u001b[0m\u001b[0;32mTrue\u001b[0m\u001b[0;34m,\u001b[0m \u001b[0mschema\u001b[0m \u001b[0;34m=\u001b[0m \u001b[0;34m[\u001b[0m\u001b[0;34m\"chunk\"\u001b[0m\u001b[0;34m,\u001b[0m\u001b[0;34m\"sentence\"\u001b[0m\u001b[0;34m,\u001b[0m\u001b[0;34m\"result\"\u001b[0m\u001b[0;34m,\u001b[0m\u001b[0;34m\"begin\"\u001b[0m\u001b[0;34m,\u001b[0m\u001b[0;34m\"end\"\u001b[0m\u001b[0;34m]\u001b[0m\u001b[0;34m)\u001b[0m\u001b[0;34m:\u001b[0m\u001b[0;34m\u001b[0m\u001b[0;34m\u001b[0m\u001b[0m\n",
      "\u001b[0;31mModuleNotFoundError\u001b[0m: No module named 'pylcs'"
     ]
    }
   ],
   "source": [
    "import pandas as pd\n",
    "from scipy.stats import mode\n",
    "from ctdi_treatment.postprocessing import build_dict_acc, prepare_output_acc, aggregate_entity_dict, dict_diff_acc, dict_join_append_acc\n",
    "f\n",
    "or i, (ff,o) in enumerate(dfs):\n",
    "    dfs[i][1][\"entity_dict\"] = o[\"full_chunk\"].apply(build_dict_acc(by_sentence=False))\n",
    "    dfs[i][1][\"entity_dict_sent\"] = o[\"full_chunk\"].apply(build_dict_acc())\n",
    "    dfs[i][1][\"num_sents\"] = o[\"sentence\"].apply(len)\n",
    "    dfs[i][1][\"num_drugs\"] = o[\"entity_dict\"].apply(lambda x: len(x.get(\"Drug\",[])))\n",
    "    dfs[i][1][\"output\"] = o.apply(prepare_output_acc(fallback_field=ff, name_sep=name_sep, sent_sep=sent_sep, tit_sep=tit_sep), axis=1)\n",
    "    dfs[i][1][['output_class', 'missing_entities', 'output']] = pd.DataFrame(o[\"output\"].tolist(), index=o.index)"
   ]
  },
  {
   "cell_type": "code",
   "execution_count": null,
   "metadata": {},
   "outputs": [],
   "source": [
    "(_,dfx), (_,dfz), (_,dfa) = dfs"
   ]
  },
  {
   "cell_type": "markdown",
   "metadata": {},
   "source": [
    "### Using ARM and Intervention level information together and calculate `combined` final output"
   ]
  },
  {
   "cell_type": "markdown",
   "metadata": {},
   "source": [
    "### Aggregation of the Intervention level output"
   ]
  },
  {
   "cell_type": "code",
   "execution_count": 15,
   "metadata": {},
   "outputs": [
    {
     "data": {
      "text/plain": [
       "(13, 11)"
      ]
     },
     "execution_count": 15,
     "metadata": {},
     "output_type": "execute_result"
    }
   ],
   "source": [
    "dfz_ = dfz.groupby([\"nct_id\",\"design_group_id\"])\\\n",
    "    .agg({\"name\":name_sep.join,\"title\":max,\"arm_desc\":max,\n",
    "           \"intervention_name_desc\":tit_sep.join,\"entity_dict\":aggregate_entity_dict,\n",
    "          \"output_class\":lambda x: mode(x)[0],\"missing_entities\":sum,\"output\":sum,\"num_drugs\":sum}).reset_index()\n",
    "dfz_.shape"
   ]
  },
  {
   "cell_type": "code",
   "execution_count": 16,
   "metadata": {},
   "outputs": [],
   "source": [
    "arm_int = pd.merge(dfx,dfz.drop([\"nct_id\",\"title\",\"arm_desc\",\"arm_title_desc\"],axis=1),on=\"design_group_id\")"
   ]
  },
  {
   "cell_type": "code",
   "execution_count": 17,
   "metadata": {},
   "outputs": [],
   "source": [
    "required = [\"Drug\",\"Strength\",\"Administration\"]\n",
    "arm_int[\"entity_diff_xy\"] = arm_int[[\"entity_dict_x\",\"entity_dict_y\"]].apply(dict_diff_acc(False,required), axis=1)\n",
    "arm_int[\"label_diff_xy\"] = arm_int[[\"entity_dict_x\",\"entity_dict_y\"]].apply(dict_diff_acc(True,required), axis=1)\n",
    "arm_int[\"labels_x\"] = arm_int[\"entity_dict_x\"].apply(lambda x: [y for y in x])\n",
    "arm_int[\"labels_y\"] = arm_int[\"entity_dict_y\"].apply(lambda x: [y for y in x])"
   ]
  },
  {
   "cell_type": "code",
   "execution_count": 18,
   "metadata": {},
   "outputs": [],
   "source": [
    "arm_int[\"output_read_x\"] = arm_int[\"output_x\"].apply(lambda x: \"\\n\".join([str(y) for y in x]))\n",
    "arm_int[\"output_read_y\"] = arm_int[\"output_y\"].apply(lambda x: \"\\n\".join([str(y) for y in x]))"
   ]
  },
  {
   "cell_type": "code",
   "execution_count": 19,
   "metadata": {},
   "outputs": [],
   "source": [
    "arm_int[\"combined\"] = arm_int.apply(dict_join_append_acc(),axis=1)\n",
    "arm_int[\"combined_read\"] = arm_int[\"combined\"].apply(lambda x: \"\\n\".join([str(y) for y in x]))"
   ]
  },
  {
   "cell_type": "code",
   "execution_count": 20,
   "metadata": {},
   "outputs": [],
   "source": [
    "arm_int[[\"nct_id\",\"title\",\"arm_title_desc\",\"name\",\"intervention_name_desc\",\"output_class_x\",\"output_class_y\",\"output_x\",\"output_y\",\"entity_diff_xy\",\"combined\",\"output_read_x\",\"output_read_y\",\"combined_read\"]]\\\n",
    ".to_csv(\"../data/arm_title_desc_int_name_desc_combined.csv\",index=False)"
   ]
  },
  {
   "cell_type": "markdown",
   "metadata": {},
   "source": [
    "## Create some preannotated data for the AnnotationLab"
   ]
  },
  {
   "cell_type": "code",
   "execution_count": 21,
   "metadata": {},
   "outputs": [],
   "source": [
    "ann_df = pd.merge(dfx,dfa.drop([\"nct_id\",\"title\",\"arm_desc\"],axis=1),on=\"design_group_id\")"
   ]
  },
  {
   "cell_type": "code",
   "execution_count": 22,
   "metadata": {},
   "outputs": [],
   "source": [
    "from ctdi_treatment.annotation_lab import write_json_files\n",
    "write_json_files(ann_df, [\"nct_id\",\"title\"],[(\"arm\",\"arm_title_desc\",\"full_chunk_x\",\"relations_x\"),\n",
    "                  (\"int\",\"intervention_type_name_desc\",\"full_chunk_y\",\"relations_y\")], out_path=\"../data\")"
   ]
  },
  {
   "cell_type": "code",
   "execution_count": null,
   "metadata": {},
   "outputs": [],
   "source": []
  }
 ],
 "metadata": {
  "kernelspec": {
   "display_name": "Environment (conda_anaconda3)",
   "language": "python",
   "name": "conda_anaconda3"
  },
  "language_info": {
   "codemirror_mode": {
    "name": "ipython",
    "version": 3
   },
   "file_extension": ".py",
   "mimetype": "text/x-python",
   "name": "python",
   "nbconvert_exporter": "python",
   "pygments_lexer": "ipython3",
   "version": "3.7.6"
  }
 },
 "nbformat": 4,
 "nbformat_minor": 5
}
